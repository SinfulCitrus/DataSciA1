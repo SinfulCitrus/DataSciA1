{
 "cells": [
  {
   "cell_type": "code",
   "execution_count": 1,
   "metadata": {},
   "outputs": [],
   "source": [
    "import requests\n",
    "from PIL import Image\n",
    "from pprint import pprint\n",
    "import json\n",
    "import pandas as pd"
   ]
  },
  {
   "cell_type": "code",
   "execution_count": 2,
   "metadata": {},
   "outputs": [],
   "source": [
    "api_key = \"vytvIDyAwxQXP87gn0Defwiltz4391uInF8bObyE\"\n",
    "url_weather = \"https://api.nasa.gov/insight_weather/?\"\n",
    "url_images = \"https://api.nasa.gov/mars-photos/api/v1/rovers/{}/photos?\"\n",
    "rovers = [\"curiosity\", \"opportunity\", \"spirit\"]\n",
    "# [url_images.format(x) for x in rovers]\n",
    "# API Mars Weather Docs: https://api.nasa.gov/assets/insight/InSight%20Weather%20API%20Documentation.pdf"
   ]
  },
  {
   "cell_type": "code",
   "execution_count": 3,
   "metadata": {},
   "outputs": [],
   "source": [
    "payload_weather = {\n",
    "    \"api_key\": api_key,\n",
    "    \"feedtype\": \"json\"\n",
    "}\n",
    "payload_images = {\n",
    "    \"api_key\": api_key\n",
    "}"
   ]
  },
  {
   "cell_type": "code",
   "execution_count": 4,
   "metadata": {},
   "outputs": [],
   "source": [
    "# resp = requests.get(url, params=payload)\n",
    "resp = requests.get(url_weather, params=payload_weather)"
   ]
  },
  {
   "cell_type": "code",
   "execution_count": null,
   "metadata": {},
   "outputs": [],
   "source": []
  },
  {
   "cell_type": "code",
   "execution_count": 5,
   "metadata": {},
   "outputs": [],
   "source": [
    "# resp.content"
   ]
  },
  {
   "cell_type": "code",
   "execution_count": 6,
   "metadata": {},
   "outputs": [],
   "source": [
    "cont = json.loads(resp.content)\n",
    "cont2 = {\n",
    "    key: cont[key] for key in list(cont.keys())[:-2]\n",
    "}\n",
    "# pprint(cont2)\n",
    "cont_pd = pd.DataFrame(cont2)"
   ]
  },
  {
   "cell_type": "code",
   "execution_count": 7,
   "metadata": {},
   "outputs": [
    {
     "data": {
      "text/plain": [
       "[{'Sol': '809',\n",
       "  'First_UTC': '2021-03-06T10:57:03Z',\n",
       "  'Last_UTC': '2021-03-07T11:36:33Z',\n",
       "  'Month_ordinal': 12,\n",
       "  'Northern_season': 'late winter',\n",
       "  'Season': 'winter',\n",
       "  'Southern_season': 'late summer',\n",
       "  'av': 727.644,\n",
       "  'ct': 103645,\n",
       "  'mn': 706.737,\n",
       "  'mx': 744.8863},\n",
       " {'Sol': '810',\n",
       "  'First_UTC': '2021-03-07T11:36:38Z',\n",
       "  'Last_UTC': '2021-03-08T12:16:13Z',\n",
       "  'Month_ordinal': 12,\n",
       "  'Northern_season': 'late winter',\n",
       "  'Season': 'winter',\n",
       "  'Southern_season': 'late summer',\n",
       "  'av': 728.062,\n",
       "  'ct': 104975,\n",
       "  'mn': 707.2886,\n",
       "  'mx': 744.3631},\n",
       " {'Sol': '811',\n",
       "  'First_UTC': '2021-03-08T12:16:13Z',\n",
       "  'Last_UTC': '2021-03-09T12:55:48Z',\n",
       "  'Month_ordinal': 12,\n",
       "  'Northern_season': 'late winter',\n",
       "  'Season': 'winter',\n",
       "  'Southern_season': 'late summer',\n",
       "  'av': 728.219,\n",
       "  'ct': 149673,\n",
       "  'mn': 707.2492,\n",
       "  'mx': 745.7073},\n",
       " {'Sol': '812',\n",
       "  'First_UTC': '2021-03-09T12:55:49Z',\n",
       "  'Last_UTC': '2021-03-10T13:35:24Z',\n",
       "  'Month_ordinal': 12,\n",
       "  'Northern_season': 'late winter',\n",
       "  'Season': 'winter',\n",
       "  'Southern_season': 'late summer',\n",
       "  'av': 727.699,\n",
       "  'ct': 105992,\n",
       "  'mn': 706.365,\n",
       "  'mx': 742.9495},\n",
       " {'Sol': '813',\n",
       "  'First_UTC': '2021-03-10T13:35:28Z',\n",
       "  'Last_UTC': '2021-03-11T14:14:59Z',\n",
       "  'Month_ordinal': 12,\n",
       "  'Northern_season': 'late winter',\n",
       "  'Season': 'winter',\n",
       "  'Southern_season': 'late summer',\n",
       "  'av': 727.909,\n",
       "  'ct': 100620,\n",
       "  'mn': 706.2391,\n",
       "  'mx': 743.8608},\n",
       " {'Sol': '814',\n",
       "  'First_UTC': '2021-03-11T14:15:03Z',\n",
       "  'Last_UTC': '2021-03-12T14:54:34Z',\n",
       "  'Month_ordinal': 12,\n",
       "  'Northern_season': 'late winter',\n",
       "  'Season': 'winter',\n",
       "  'Southern_season': 'late summer',\n",
       "  'av': 728.121,\n",
       "  'ct': 104121,\n",
       "  'mn': 706.9009,\n",
       "  'mx': 745.4649},\n",
       " {'Sol': '815',\n",
       "  'First_UTC': '2021-03-12T14:54:38Z',\n",
       "  'Last_UTC': '2021-03-13T08:54:34Z',\n",
       "  'Month_ordinal': 12,\n",
       "  'Northern_season': 'late winter',\n",
       "  'Season': 'winter',\n",
       "  'Southern_season': 'late summer',\n",
       "  'av': 728.407,\n",
       "  'ct': 64802,\n",
       "  'mn': 708.4248,\n",
       "  'mx': 744.9279}]"
      ]
     },
     "execution_count": 7,
     "metadata": {},
     "output_type": "execute_result"
    }
   ],
   "source": [
    "weather = []\n",
    "for key,val in cont2.items():\n",
    "    pre = val[\"PRE\"]\n",
    "    del val[\"PRE\"]\n",
    "    del val[\"WD\"]\n",
    "    val = {**val, **pre}\n",
    "    updated = {**{\"Sol\":key}, **val}\n",
    "    weather.append(updated)\n",
    "weather"
   ]
  },
  {
   "cell_type": "code",
   "execution_count": 8,
   "metadata": {},
   "outputs": [],
   "source": [
    "weather_pd = pd.DataFrame(weather)\n",
    "new_order = [\"Sol\"] + [x for x in weather_pd.columns.tolist() if x != \"Sol\"]\n",
    "weather_pd = weather_pd[new_order]"
   ]
  },
  {
   "cell_type": "code",
   "execution_count": 9,
   "metadata": {},
   "outputs": [
    {
     "data": {
      "text/html": [
       "<div>\n",
       "<style scoped>\n",
       "    .dataframe tbody tr th:only-of-type {\n",
       "        vertical-align: middle;\n",
       "    }\n",
       "\n",
       "    .dataframe tbody tr th {\n",
       "        vertical-align: top;\n",
       "    }\n",
       "\n",
       "    .dataframe thead th {\n",
       "        text-align: right;\n",
       "    }\n",
       "</style>\n",
       "<table border=\"1\" class=\"dataframe\">\n",
       "  <thead>\n",
       "    <tr style=\"text-align: right;\">\n",
       "      <th></th>\n",
       "      <th>Sol</th>\n",
       "      <th>First_UTC</th>\n",
       "      <th>Last_UTC</th>\n",
       "      <th>Month_ordinal</th>\n",
       "      <th>Northern_season</th>\n",
       "      <th>Season</th>\n",
       "      <th>Southern_season</th>\n",
       "      <th>av</th>\n",
       "      <th>ct</th>\n",
       "      <th>mn</th>\n",
       "      <th>mx</th>\n",
       "    </tr>\n",
       "  </thead>\n",
       "  <tbody>\n",
       "    <tr>\n",
       "      <td>0</td>\n",
       "      <td>809</td>\n",
       "      <td>2021-03-06T10:57:03Z</td>\n",
       "      <td>2021-03-07T11:36:33Z</td>\n",
       "      <td>12</td>\n",
       "      <td>late winter</td>\n",
       "      <td>winter</td>\n",
       "      <td>late summer</td>\n",
       "      <td>727.644</td>\n",
       "      <td>103645</td>\n",
       "      <td>706.7370</td>\n",
       "      <td>744.8863</td>\n",
       "    </tr>\n",
       "    <tr>\n",
       "      <td>1</td>\n",
       "      <td>810</td>\n",
       "      <td>2021-03-07T11:36:38Z</td>\n",
       "      <td>2021-03-08T12:16:13Z</td>\n",
       "      <td>12</td>\n",
       "      <td>late winter</td>\n",
       "      <td>winter</td>\n",
       "      <td>late summer</td>\n",
       "      <td>728.062</td>\n",
       "      <td>104975</td>\n",
       "      <td>707.2886</td>\n",
       "      <td>744.3631</td>\n",
       "    </tr>\n",
       "    <tr>\n",
       "      <td>2</td>\n",
       "      <td>811</td>\n",
       "      <td>2021-03-08T12:16:13Z</td>\n",
       "      <td>2021-03-09T12:55:48Z</td>\n",
       "      <td>12</td>\n",
       "      <td>late winter</td>\n",
       "      <td>winter</td>\n",
       "      <td>late summer</td>\n",
       "      <td>728.219</td>\n",
       "      <td>149673</td>\n",
       "      <td>707.2492</td>\n",
       "      <td>745.7073</td>\n",
       "    </tr>\n",
       "    <tr>\n",
       "      <td>3</td>\n",
       "      <td>812</td>\n",
       "      <td>2021-03-09T12:55:49Z</td>\n",
       "      <td>2021-03-10T13:35:24Z</td>\n",
       "      <td>12</td>\n",
       "      <td>late winter</td>\n",
       "      <td>winter</td>\n",
       "      <td>late summer</td>\n",
       "      <td>727.699</td>\n",
       "      <td>105992</td>\n",
       "      <td>706.3650</td>\n",
       "      <td>742.9495</td>\n",
       "    </tr>\n",
       "    <tr>\n",
       "      <td>4</td>\n",
       "      <td>813</td>\n",
       "      <td>2021-03-10T13:35:28Z</td>\n",
       "      <td>2021-03-11T14:14:59Z</td>\n",
       "      <td>12</td>\n",
       "      <td>late winter</td>\n",
       "      <td>winter</td>\n",
       "      <td>late summer</td>\n",
       "      <td>727.909</td>\n",
       "      <td>100620</td>\n",
       "      <td>706.2391</td>\n",
       "      <td>743.8608</td>\n",
       "    </tr>\n",
       "    <tr>\n",
       "      <td>5</td>\n",
       "      <td>814</td>\n",
       "      <td>2021-03-11T14:15:03Z</td>\n",
       "      <td>2021-03-12T14:54:34Z</td>\n",
       "      <td>12</td>\n",
       "      <td>late winter</td>\n",
       "      <td>winter</td>\n",
       "      <td>late summer</td>\n",
       "      <td>728.121</td>\n",
       "      <td>104121</td>\n",
       "      <td>706.9009</td>\n",
       "      <td>745.4649</td>\n",
       "    </tr>\n",
       "    <tr>\n",
       "      <td>6</td>\n",
       "      <td>815</td>\n",
       "      <td>2021-03-12T14:54:38Z</td>\n",
       "      <td>2021-03-13T08:54:34Z</td>\n",
       "      <td>12</td>\n",
       "      <td>late winter</td>\n",
       "      <td>winter</td>\n",
       "      <td>late summer</td>\n",
       "      <td>728.407</td>\n",
       "      <td>64802</td>\n",
       "      <td>708.4248</td>\n",
       "      <td>744.9279</td>\n",
       "    </tr>\n",
       "  </tbody>\n",
       "</table>\n",
       "</div>"
      ],
      "text/plain": [
       "   Sol             First_UTC              Last_UTC  Month_ordinal  \\\n",
       "0  809  2021-03-06T10:57:03Z  2021-03-07T11:36:33Z             12   \n",
       "1  810  2021-03-07T11:36:38Z  2021-03-08T12:16:13Z             12   \n",
       "2  811  2021-03-08T12:16:13Z  2021-03-09T12:55:48Z             12   \n",
       "3  812  2021-03-09T12:55:49Z  2021-03-10T13:35:24Z             12   \n",
       "4  813  2021-03-10T13:35:28Z  2021-03-11T14:14:59Z             12   \n",
       "5  814  2021-03-11T14:15:03Z  2021-03-12T14:54:34Z             12   \n",
       "6  815  2021-03-12T14:54:38Z  2021-03-13T08:54:34Z             12   \n",
       "\n",
       "  Northern_season  Season Southern_season       av      ct        mn        mx  \n",
       "0     late winter  winter     late summer  727.644  103645  706.7370  744.8863  \n",
       "1     late winter  winter     late summer  728.062  104975  707.2886  744.3631  \n",
       "2     late winter  winter     late summer  728.219  149673  707.2492  745.7073  \n",
       "3     late winter  winter     late summer  727.699  105992  706.3650  742.9495  \n",
       "4     late winter  winter     late summer  727.909  100620  706.2391  743.8608  \n",
       "5     late winter  winter     late summer  728.121  104121  706.9009  745.4649  \n",
       "6     late winter  winter     late summer  728.407   64802  708.4248  744.9279  "
      ]
     },
     "execution_count": 9,
     "metadata": {},
     "output_type": "execute_result"
    }
   ],
   "source": [
    "weather_pd"
   ]
  },
  {
   "cell_type": "code",
   "execution_count": null,
   "metadata": {},
   "outputs": [],
   "source": []
  },
  {
   "cell_type": "code",
   "execution_count": null,
   "metadata": {},
   "outputs": [],
   "source": []
  },
  {
   "cell_type": "code",
   "execution_count": null,
   "metadata": {},
   "outputs": [],
   "source": [
    "# exmp = cont_pd.iloc[0]\n",
    "# download_url = \"https://epic.gsfc.nasa.gov/epic-archive/jpg/{}.jpg\".format(exmp[\"image\"])"
   ]
  },
  {
   "cell_type": "code",
   "execution_count": null,
   "metadata": {},
   "outputs": [],
   "source": [
    "# im = Image.open(requests.get(download_url, stream=True).raw)"
   ]
  },
  {
   "cell_type": "code",
   "execution_count": null,
   "metadata": {},
   "outputs": [],
   "source": [
    "# download_url"
   ]
  },
  {
   "cell_type": "code",
   "execution_count": null,
   "metadata": {},
   "outputs": [],
   "source": [
    "# im"
   ]
  },
  {
   "cell_type": "code",
   "execution_count": null,
   "metadata": {},
   "outputs": [],
   "source": []
  }
 ],
 "metadata": {
  "kernelspec": {
   "display_name": "Python 3",
   "language": "python",
   "name": "python3"
  },
  "language_info": {
   "codemirror_mode": {
    "name": "ipython",
    "version": 3
   },
   "file_extension": ".py",
   "mimetype": "text/x-python",
   "name": "python",
   "nbconvert_exporter": "python",
   "pygments_lexer": "ipython3",
   "version": "3.7.4"
  }
 },
 "nbformat": 4,
 "nbformat_minor": 2
}
